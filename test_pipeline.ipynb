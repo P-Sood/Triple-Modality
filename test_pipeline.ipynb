{
 "cells": [
  {
   "cell_type": "code",
   "execution_count": 1,
   "metadata": {},
   "outputs": [
    {
     "name": "stderr",
     "output_type": "stream",
     "text": [
      "/home/zeerak.talat/.conda/envs/featuregen/lib/python3.11/site-packages/tqdm/auto.py:21: TqdmWarning: IProgress not found. Please update jupyter and ipywidgets. See https://ipywidgets.readthedocs.io/en/stable/user_install.html\n",
      "  from .autonotebook import tqdm as notebook_tqdm\n"
     ]
    }
   ],
   "source": [
    "import pandas as pd\n",
    "import numpy as np\n",
    "import torch\n",
    "import h5py\n",
    "from torchvision.transforms import (\n",
    "    Compose,\n",
    "    RandomHorizontalFlip,\n",
    "    RandomVerticalFlip,\n",
    ")"
   ]
  },
  {
   "cell_type": "code",
   "execution_count": 17,
   "metadata": {},
   "outputs": [],
   "source": [
    "idx = 6979"
   ]
  },
  {
   "cell_type": "code",
   "execution_count": 3,
   "metadata": {},
   "outputs": [],
   "source": [
    "df = pd.read_pickle(\"data/more_text_IEMO.pkl\")\n",
    "AUDIOS = (h5py.File(\"data/whisper_iemo_audio.hdf5\", \"r\", libver=\"latest\", swmr=True))\n",
    "VIDEOS = (h5py.File(\"data/iemo_videos_blackground.hdf5\", \"r\", libver=\"latest\", swmr=True))"
   ]
  },
  {
   "cell_type": "markdown",
   "metadata": {},
   "source": [
    "# Checking Size"
   ]
  },
  {
   "cell_type": "code",
   "execution_count": 4,
   "metadata": {},
   "outputs": [
    {
     "data": {
      "text/plain": [
       "(7380, 7380, 7380)"
      ]
     },
     "execution_count": 4,
     "metadata": {},
     "output_type": "execute_result"
    }
   ],
   "source": [
    "len(list(AUDIOS.keys())), len(list(VIDEOS.keys())), len(df)"
   ]
  },
  {
   "cell_type": "code",
   "execution_count": 5,
   "metadata": {},
   "outputs": [
    {
     "data": {
      "text/plain": [
       "(4433, 1472, 1475)"
      ]
     },
     "execution_count": 5,
     "metadata": {},
     "output_type": "execute_result"
    }
   ],
   "source": [
    "def split_len(split):    \n",
    "    i = 0\n",
    "    for key in AUDIOS.keys():\n",
    "        if key.startswith(split):\n",
    "            i += 1\n",
    "    return i\n",
    "\n",
    "def df_len(split):\n",
    "    return len(df[df[\"split\"] == split])\n",
    "\n",
    "split_len(\"train\"), split_len(\"val\"), split_len(\"test\")"
   ]
  },
  {
   "cell_type": "code",
   "execution_count": 6,
   "metadata": {},
   "outputs": [
    {
     "data": {
      "text/plain": [
       "(4778, 980, 1622)"
      ]
     },
     "execution_count": 6,
     "metadata": {},
     "output_type": "execute_result"
    }
   ],
   "source": [
    "df_len(\"train\"), df_len(\"val\"), df_len(\"test\")"
   ]
  },
  {
   "cell_type": "markdown",
   "metadata": {},
   "source": [
    "# Code"
   ]
  },
  {
   "cell_type": "code",
   "execution_count": 7,
   "metadata": {},
   "outputs": [
    {
     "data": {
      "text/plain": [
       "text               LINDA: You kept saying my flashlight as if it'...\n",
       "index                                              Ses04M_script02_1\n",
       "split                                                            val\n",
       "emotion                                                            4\n",
       "utterance_order                                                   23\n",
       "talker                                                       MICHAEL\n",
       "sentiment_label                                              excited\n",
       "dialog                                                           116\n",
       "sentiment                                                          4\n",
       "timings                                            (135.3091, 149.4)\n",
       "bbox               [[[64, 48, 165, 216]], [[63, 46, 166, 218]], [...\n",
       "audio_path              ../../data/iemocap_wav/Ses04M_script02_1.wav\n",
       "video_path              ../../data/iemocap_avi/Ses04M_script02_1.avi\n",
       "len                                                               16\n",
       "emotion_label                                                excited\n",
       "Name: 5555, dtype: object"
      ]
     },
     "execution_count": 7,
     "metadata": {},
     "output_type": "execute_result"
    }
   ],
   "source": [
    "df.iloc[idx]"
   ]
  },
  {
   "cell_type": "code",
   "execution_count": 18,
   "metadata": {},
   "outputs": [
    {
     "data": {
      "text/plain": [
       "'[[[58, 17, 186, 219]], [[59, 16, 185, 218]], [[59, 16, 185, 217]], [[59, 17, 185, 219]], [[58, 17, 186, 219]], [[58, 16, 185, 218]], [[59, 16, 185, 217]], [[58, 16, 186, 219]], [[59, 17, 185, 219]], [[59, 16, 185, 220]], [[53, 16, 182, 220]], [[60, 15, 184, 220]], [[60, 15, 184, 219]], [[59, 15, 185, 219]], [[58, 14, 185, 217]], [[59, 15, 185, 218]]]'"
      ]
     },
     "execution_count": 18,
     "metadata": {},
     "output_type": "execute_result"
    }
   ],
   "source": [
    "df.iloc[idx]['bbox']"
   ]
  },
  {
   "cell_type": "code",
   "execution_count": 8,
   "metadata": {},
   "outputs": [],
   "source": [
    "audio_path = df.iloc[idx]['audio_path']\n",
    "video_path = df.iloc[idx]['video_path']\n",
    "timings = df.iloc[idx]['timings']"
   ]
  },
  {
   "cell_type": "markdown",
   "metadata": {},
   "source": [
    "## Audio"
   ]
  },
  {
   "cell_type": "code",
   "execution_count": 11,
   "metadata": {},
   "outputs": [],
   "source": [
    "speech_array = torch.Tensor(AUDIOS[f\"val_{audio_path.split('/')[-1][:-4]}_{timings}\"][()])"
   ]
  },
  {
   "cell_type": "code",
   "execution_count": 12,
   "metadata": {},
   "outputs": [],
   "source": [
    "torch.save(speech_array, f\"{idx}_audio.pt\")"
   ]
  },
  {
   "cell_type": "markdown",
   "metadata": {},
   "source": [
    "## Video"
   ]
  },
  {
   "cell_type": "code",
   "execution_count": 14,
   "metadata": {},
   "outputs": [],
   "source": [
    "transform = Compose(\n",
    "    [\n",
    "        RandomHorizontalFlip(p=0),  #\n",
    "        RandomVerticalFlip(p=0),  #\n",
    "    ]\n",
    ")\n",
    "video = torch.Tensor(VIDEOS[f\"val_{video_path.split('/')[-1][:-4]}_{timings}\"][()])  \n",
    "video = transform(video)\n"
   ]
  },
  {
   "cell_type": "code",
   "execution_count": 15,
   "metadata": {},
   "outputs": [],
   "source": [
    "torch.save(video, f\"{idx}_video.pt\")"
   ]
  }
 ],
 "metadata": {
  "kernelspec": {
   "display_name": "featuregen",
   "language": "python",
   "name": "python3"
  },
  "language_info": {
   "codemirror_mode": {
    "name": "ipython",
    "version": 3
   },
   "file_extension": ".py",
   "mimetype": "text/x-python",
   "name": "python",
   "nbconvert_exporter": "python",
   "pygments_lexer": "ipython3",
   "version": "3.11.4"
  }
 },
 "nbformat": 4,
 "nbformat_minor": 2
}
