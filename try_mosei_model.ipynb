{
 "cells": [
  {
   "cell_type": "code",
   "execution_count": null,
   "metadata": {},
   "outputs": [],
   "source": []
  },
  {
   "cell_type": "code",
   "execution_count": null,
   "metadata": {},
   "outputs": [],
   "source": []
  },
  {
   "cell_type": "code",
   "execution_count": null,
   "metadata": {},
   "outputs": [],
   "source": [
    "visual_enc = RNNEncoder(\n",
    "                in_size=64,\n",
    "                hidden_size=hp.d_vh,\n",
    "                out_size=hp.d_vout,\n",
    "                num_layers=hp.n_layer,\n",
    "                dropout=hp.dropout_v if hp.n_layer > 1 else 0.3,\n",
    "                bidirectional=hp.bidirectional\n",
    "            )\n",
    "acoustic_enc = RNNEncoder(\n",
    "                in_size=hp.d_ain,\n",
    "                hidden_size=hp.d_ah,\n",
    "                out_size=hp.d_aout,\n",
    "                num_layers=hp.n_layer,\n",
    "                dropout=hp.dropout_a if hp.n_layer > 1 else 0.3,\n",
    "                bidirectional=hp.bidirectional\n",
    "            )"
   ]
  }
 ],
 "metadata": {
  "kernelspec": {
   "display_name": "featuregen",
   "language": "python",
   "name": "python3"
  },
  "language_info": {
   "name": "python",
   "version": "3.11.4"
  }
 },
 "nbformat": 4,
 "nbformat_minor": 2
}
