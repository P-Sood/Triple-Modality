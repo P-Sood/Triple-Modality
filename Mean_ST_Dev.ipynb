{
 "cells": [
  {
   "cell_type": "code",
   "execution_count": 2,
   "metadata": {},
   "outputs": [],
   "source": [
    "import numpy as np"
   ]
  },
  {
   "cell_type": "markdown",
   "metadata": {},
   "source": [
    "# MUST"
   ]
  },
  {
   "cell_type": "code",
   "execution_count": 6,
   "metadata": {},
   "outputs": [
    {
     "name": "stdout",
     "output_type": "stream",
     "text": [
      "BERT:\n",
      "63.36 $(\\sigma 2.05)$\n",
      "WHISPER:\n",
      "65.33 $(\\sigma 20.85)$\n",
      "VIDEO:\n",
      "62.33 $(\\sigma 24.72)$\n"
     ]
    }
   ],
   "source": [
    "bert_f1 = [0.6432 , 0.6207 , 0.6434 , 0.6010 , .6599]\n",
    "print(f\"BERT:\\n{round(100*np.mean(meld_f1) , 2)} $(\\sigma {round(100*np.std(meld_f1), 2)})$\")\n",
    "\n",
    "aud_f1 = [.67 , .39 , .90]\n",
    "print(f\"WHISPER:\\n{round(100*np.mean(must_f1) , 2)} $(\\sigma {round(100*np.std(must_f1), 2)})$\")\n",
    "\n",
    "vid_f1 = [.67 , .30 , .90]\n",
    "print(f\"VIDEO:\\n{round(100*np.mean(iemo_f1) , 2)} $(\\sigma {round(100*np.std(iemo_f1), 2)})$\")"
   ]
  },
  {
   "cell_type": "markdown",
   "metadata": {},
   "source": [
    "# MELD"
   ]
  },
  {
   "cell_type": "code",
   "execution_count": null,
   "metadata": {},
   "outputs": [],
   "source": [
    "bert_f1 = [0.6432 , 0.6207 , 0.6434 , 0.6010 , .6599]\n",
    "print(f\"BERT:\\n{round(100*np.mean(meld_f1) , 2)} $(\\sigma {round(100*np.std(meld_f1), 2)})$\")\n",
    "\n",
    "aud_f1 = [.67 , .39 , .90]\n",
    "print(f\"WHISPER:\\n{round(100*np.mean(must_f1) , 2)} $(\\sigma {round(100*np.std(must_f1), 2)})$\")\n",
    "\n",
    "vid_f1 = [.67 , .30 , .90]\n",
    "print(f\"VIDEO:\\n{round(100*np.mean(iemo_f1) , 2)} $(\\sigma {round(100*np.std(iemo_f1), 2)})$\")"
   ]
  },
  {
   "cell_type": "markdown",
   "metadata": {},
   "source": [
    "# IEMO"
   ]
  },
  {
   "cell_type": "code",
   "execution_count": null,
   "metadata": {},
   "outputs": [],
   "source": [
    "bert_f1 = [0.6432 , 0.6207 , 0.6434 , 0.6010 , .6599]\n",
    "print(f\"BERT:\\n{round(100*np.mean(meld_f1) , 2)} $(\\sigma {round(100*np.std(meld_f1), 2)})$\")\n",
    "\n",
    "aud_f1 = [.67 , .39 , .90]\n",
    "print(f\"WHISPER:\\n{round(100*np.mean(must_f1) , 2)} $(\\sigma {round(100*np.std(must_f1), 2)})$\")\n",
    "\n",
    "vid_f1 = [.67 , .30 , .90]\n",
    "print(f\"VIDEO:\\n{round(100*np.mean(iemo_f1) , 2)} $(\\sigma {round(100*np.std(iemo_f1), 2)})$\")"
   ]
  }
 ],
 "metadata": {
  "kernelspec": {
   "display_name": "featuregen",
   "language": "python",
   "name": "python3"
  },
  "language_info": {
   "codemirror_mode": {
    "name": "ipython",
    "version": 3
   },
   "file_extension": ".py",
   "mimetype": "text/x-python",
   "name": "python",
   "nbconvert_exporter": "python",
   "pygments_lexer": "ipython3",
   "version": "3.11.4"
  }
 },
 "nbformat": 4,
 "nbformat_minor": 2
}
